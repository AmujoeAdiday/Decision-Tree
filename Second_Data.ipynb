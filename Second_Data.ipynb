{
 "cells": [
  {
   "cell_type": "code",
   "execution_count": 1,
   "metadata": {},
   "outputs": [],
   "source": [
    "link = \"ParisHousingClass99.88.csv\""
   ]
  },
  {
   "cell_type": "markdown",
   "metadata": {},
   "source": [
    "Sources :\n",
    "Part of codes :\n",
    "https://www.javatpoint.com/machine-learning-decision-tree-classification-algorithm\n",
    "\n",
    "https://scikit-learn.org/stable/modules/generated/sklearn.metrics.accuracy_score.html\n",
    "\n",
    "The data file I have attached as Paring Housing file\n",
    "\n",
    "Data Source :\n",
    "https://www.kaggle.com/mssmartypants/paris-housing-classification?select=ParisHousingClass99.88.csv"
   ]
  },
  {
   "cell_type": "markdown",
   "metadata": {},
   "source": [
    "This dataset is to train the features of numberOfRooms \thasYard \thasPool \tmade \tisNewBuilt \thasGuestRoom \tprice of data\n",
    "\n",
    "to predict either the paris house is luxury or basic"
   ]
  },
  {
   "cell_type": "code",
   "execution_count": 1,
   "metadata": {},
   "outputs": [],
   "source": [
    "# importing libraries  \n",
    "import numpy as nm  \n",
    "import matplotlib.pyplot as mtp  \n",
    "import pandas as pd  \n",
    "from sklearn.metrics import accuracy_score\n",
    "from sklearn.metrics import classification_report\n",
    "from sklearn.preprocessing import LabelEncoder\n",
    "#LabelEncoder is to convert string data to numeric data"
   ]
  },
  {
   "cell_type": "code",
   "execution_count": 3,
   "metadata": {},
   "outputs": [
    {
     "data": {
      "text/html": [
       "<div>\n",
       "<style scoped>\n",
       "    .dataframe tbody tr th:only-of-type {\n",
       "        vertical-align: middle;\n",
       "    }\n",
       "\n",
       "    .dataframe tbody tr th {\n",
       "        vertical-align: top;\n",
       "    }\n",
       "\n",
       "    .dataframe thead th {\n",
       "        text-align: right;\n",
       "    }\n",
       "</style>\n",
       "<table border=\"1\" class=\"dataframe\">\n",
       "  <thead>\n",
       "    <tr style=\"text-align: right;\">\n",
       "      <th></th>\n",
       "      <th>squareMeters</th>\n",
       "      <th>numberOfRooms</th>\n",
       "      <th>hasYard</th>\n",
       "      <th>hasPool</th>\n",
       "      <th>floors</th>\n",
       "      <th>cityCode</th>\n",
       "      <th>cityPartRange</th>\n",
       "      <th>numPrevOwners</th>\n",
       "      <th>made</th>\n",
       "      <th>isNewBuilt</th>\n",
       "      <th>hasStormProtector</th>\n",
       "      <th>basement</th>\n",
       "      <th>attic</th>\n",
       "      <th>garage</th>\n",
       "      <th>hasStorageRoom</th>\n",
       "      <th>hasGuestRoom</th>\n",
       "      <th>price</th>\n",
       "      <th>category</th>\n",
       "    </tr>\n",
       "  </thead>\n",
       "  <tbody>\n",
       "    <tr>\n",
       "      <th>0</th>\n",
       "      <td>75523</td>\n",
       "      <td>3</td>\n",
       "      <td>0</td>\n",
       "      <td>1</td>\n",
       "      <td>63</td>\n",
       "      <td>9373</td>\n",
       "      <td>3</td>\n",
       "      <td>8</td>\n",
       "      <td>2005</td>\n",
       "      <td>0</td>\n",
       "      <td>1</td>\n",
       "      <td>4313</td>\n",
       "      <td>9005</td>\n",
       "      <td>956</td>\n",
       "      <td>0</td>\n",
       "      <td>7</td>\n",
       "      <td>7559081.5</td>\n",
       "      <td>Basic</td>\n",
       "    </tr>\n",
       "    <tr>\n",
       "      <th>1</th>\n",
       "      <td>80771</td>\n",
       "      <td>39</td>\n",
       "      <td>1</td>\n",
       "      <td>1</td>\n",
       "      <td>98</td>\n",
       "      <td>39381</td>\n",
       "      <td>8</td>\n",
       "      <td>6</td>\n",
       "      <td>2015</td>\n",
       "      <td>1</td>\n",
       "      <td>0</td>\n",
       "      <td>3653</td>\n",
       "      <td>2436</td>\n",
       "      <td>128</td>\n",
       "      <td>1</td>\n",
       "      <td>2</td>\n",
       "      <td>8085989.5</td>\n",
       "      <td>Luxury</td>\n",
       "    </tr>\n",
       "    <tr>\n",
       "      <th>2</th>\n",
       "      <td>55712</td>\n",
       "      <td>58</td>\n",
       "      <td>0</td>\n",
       "      <td>1</td>\n",
       "      <td>19</td>\n",
       "      <td>34457</td>\n",
       "      <td>6</td>\n",
       "      <td>8</td>\n",
       "      <td>2021</td>\n",
       "      <td>0</td>\n",
       "      <td>0</td>\n",
       "      <td>2937</td>\n",
       "      <td>8852</td>\n",
       "      <td>135</td>\n",
       "      <td>1</td>\n",
       "      <td>9</td>\n",
       "      <td>5574642.1</td>\n",
       "      <td>Basic</td>\n",
       "    </tr>\n",
       "    <tr>\n",
       "      <th>3</th>\n",
       "      <td>32316</td>\n",
       "      <td>47</td>\n",
       "      <td>0</td>\n",
       "      <td>0</td>\n",
       "      <td>6</td>\n",
       "      <td>27939</td>\n",
       "      <td>10</td>\n",
       "      <td>4</td>\n",
       "      <td>2012</td>\n",
       "      <td>0</td>\n",
       "      <td>1</td>\n",
       "      <td>659</td>\n",
       "      <td>7141</td>\n",
       "      <td>359</td>\n",
       "      <td>0</td>\n",
       "      <td>3</td>\n",
       "      <td>3232561.2</td>\n",
       "      <td>Luxury</td>\n",
       "    </tr>\n",
       "    <tr>\n",
       "      <th>4</th>\n",
       "      <td>70429</td>\n",
       "      <td>19</td>\n",
       "      <td>1</td>\n",
       "      <td>1</td>\n",
       "      <td>90</td>\n",
       "      <td>38045</td>\n",
       "      <td>3</td>\n",
       "      <td>7</td>\n",
       "      <td>1990</td>\n",
       "      <td>1</td>\n",
       "      <td>0</td>\n",
       "      <td>8435</td>\n",
       "      <td>2429</td>\n",
       "      <td>292</td>\n",
       "      <td>1</td>\n",
       "      <td>4</td>\n",
       "      <td>7055052.0</td>\n",
       "      <td>Luxury</td>\n",
       "    </tr>\n",
       "    <tr>\n",
       "      <th>...</th>\n",
       "      <td>...</td>\n",
       "      <td>...</td>\n",
       "      <td>...</td>\n",
       "      <td>...</td>\n",
       "      <td>...</td>\n",
       "      <td>...</td>\n",
       "      <td>...</td>\n",
       "      <td>...</td>\n",
       "      <td>...</td>\n",
       "      <td>...</td>\n",
       "      <td>...</td>\n",
       "      <td>...</td>\n",
       "      <td>...</td>\n",
       "      <td>...</td>\n",
       "      <td>...</td>\n",
       "      <td>...</td>\n",
       "      <td>...</td>\n",
       "      <td>...</td>\n",
       "    </tr>\n",
       "    <tr>\n",
       "      <th>9995</th>\n",
       "      <td>1726</td>\n",
       "      <td>89</td>\n",
       "      <td>0</td>\n",
       "      <td>1</td>\n",
       "      <td>5</td>\n",
       "      <td>73133</td>\n",
       "      <td>7</td>\n",
       "      <td>6</td>\n",
       "      <td>2009</td>\n",
       "      <td>0</td>\n",
       "      <td>1</td>\n",
       "      <td>9311</td>\n",
       "      <td>1698</td>\n",
       "      <td>218</td>\n",
       "      <td>0</td>\n",
       "      <td>4</td>\n",
       "      <td>176425.9</td>\n",
       "      <td>Basic</td>\n",
       "    </tr>\n",
       "    <tr>\n",
       "      <th>9996</th>\n",
       "      <td>44403</td>\n",
       "      <td>29</td>\n",
       "      <td>1</td>\n",
       "      <td>1</td>\n",
       "      <td>12</td>\n",
       "      <td>34606</td>\n",
       "      <td>9</td>\n",
       "      <td>4</td>\n",
       "      <td>1990</td>\n",
       "      <td>0</td>\n",
       "      <td>1</td>\n",
       "      <td>9061</td>\n",
       "      <td>1742</td>\n",
       "      <td>230</td>\n",
       "      <td>0</td>\n",
       "      <td>0</td>\n",
       "      <td>4448474.0</td>\n",
       "      <td>Basic</td>\n",
       "    </tr>\n",
       "    <tr>\n",
       "      <th>9997</th>\n",
       "      <td>83841</td>\n",
       "      <td>3</td>\n",
       "      <td>0</td>\n",
       "      <td>0</td>\n",
       "      <td>69</td>\n",
       "      <td>80933</td>\n",
       "      <td>10</td>\n",
       "      <td>10</td>\n",
       "      <td>2005</td>\n",
       "      <td>1</td>\n",
       "      <td>1</td>\n",
       "      <td>8304</td>\n",
       "      <td>7730</td>\n",
       "      <td>345</td>\n",
       "      <td>1</td>\n",
       "      <td>9</td>\n",
       "      <td>8390030.5</td>\n",
       "      <td>Basic</td>\n",
       "    </tr>\n",
       "    <tr>\n",
       "      <th>9998</th>\n",
       "      <td>59036</td>\n",
       "      <td>70</td>\n",
       "      <td>0</td>\n",
       "      <td>0</td>\n",
       "      <td>96</td>\n",
       "      <td>55856</td>\n",
       "      <td>1</td>\n",
       "      <td>3</td>\n",
       "      <td>2010</td>\n",
       "      <td>0</td>\n",
       "      <td>1</td>\n",
       "      <td>2590</td>\n",
       "      <td>6174</td>\n",
       "      <td>339</td>\n",
       "      <td>1</td>\n",
       "      <td>4</td>\n",
       "      <td>5905107.0</td>\n",
       "      <td>Basic</td>\n",
       "    </tr>\n",
       "    <tr>\n",
       "      <th>9999</th>\n",
       "      <td>1440</td>\n",
       "      <td>84</td>\n",
       "      <td>0</td>\n",
       "      <td>0</td>\n",
       "      <td>49</td>\n",
       "      <td>18412</td>\n",
       "      <td>6</td>\n",
       "      <td>10</td>\n",
       "      <td>1994</td>\n",
       "      <td>1</td>\n",
       "      <td>0</td>\n",
       "      <td>8485</td>\n",
       "      <td>2024</td>\n",
       "      <td>278</td>\n",
       "      <td>1</td>\n",
       "      <td>6</td>\n",
       "      <td>146708.4</td>\n",
       "      <td>Basic</td>\n",
       "    </tr>\n",
       "  </tbody>\n",
       "</table>\n",
       "<p>10000 rows × 18 columns</p>\n",
       "</div>"
      ],
      "text/plain": [
       "      squareMeters  numberOfRooms  hasYard  hasPool  floors  cityCode  \\\n",
       "0            75523              3        0        1      63      9373   \n",
       "1            80771             39        1        1      98     39381   \n",
       "2            55712             58        0        1      19     34457   \n",
       "3            32316             47        0        0       6     27939   \n",
       "4            70429             19        1        1      90     38045   \n",
       "...            ...            ...      ...      ...     ...       ...   \n",
       "9995          1726             89        0        1       5     73133   \n",
       "9996         44403             29        1        1      12     34606   \n",
       "9997         83841              3        0        0      69     80933   \n",
       "9998         59036             70        0        0      96     55856   \n",
       "9999          1440             84        0        0      49     18412   \n",
       "\n",
       "      cityPartRange  numPrevOwners  made  isNewBuilt  hasStormProtector  \\\n",
       "0                 3              8  2005           0                  1   \n",
       "1                 8              6  2015           1                  0   \n",
       "2                 6              8  2021           0                  0   \n",
       "3                10              4  2012           0                  1   \n",
       "4                 3              7  1990           1                  0   \n",
       "...             ...            ...   ...         ...                ...   \n",
       "9995              7              6  2009           0                  1   \n",
       "9996              9              4  1990           0                  1   \n",
       "9997             10             10  2005           1                  1   \n",
       "9998              1              3  2010           0                  1   \n",
       "9999              6             10  1994           1                  0   \n",
       "\n",
       "      basement  attic  garage  hasStorageRoom  hasGuestRoom      price  \\\n",
       "0         4313   9005     956               0             7  7559081.5   \n",
       "1         3653   2436     128               1             2  8085989.5   \n",
       "2         2937   8852     135               1             9  5574642.1   \n",
       "3          659   7141     359               0             3  3232561.2   \n",
       "4         8435   2429     292               1             4  7055052.0   \n",
       "...        ...    ...     ...             ...           ...        ...   \n",
       "9995      9311   1698     218               0             4   176425.9   \n",
       "9996      9061   1742     230               0             0  4448474.0   \n",
       "9997      8304   7730     345               1             9  8390030.5   \n",
       "9998      2590   6174     339               1             4  5905107.0   \n",
       "9999      8485   2024     278               1             6   146708.4   \n",
       "\n",
       "     category  \n",
       "0       Basic  \n",
       "1      Luxury  \n",
       "2       Basic  \n",
       "3      Luxury  \n",
       "4      Luxury  \n",
       "...       ...  \n",
       "9995    Basic  \n",
       "9996    Basic  \n",
       "9997    Basic  \n",
       "9998    Basic  \n",
       "9999    Basic  \n",
       "\n",
       "[10000 rows x 18 columns]"
      ]
     },
     "execution_count": 3,
     "metadata": {},
     "output_type": "execute_result"
    }
   ],
   "source": [
    "#importing datasets  \n",
    "data_set= pd.read_csv(link) \n",
    "data_set\n"
   ]
  },
  {
   "cell_type": "code",
   "execution_count": 4,
   "metadata": {},
   "outputs": [
    {
     "data": {
      "text/plain": [
       "Index(['squareMeters', 'numberOfRooms', 'hasYard', 'hasPool', 'floors',\n",
       "       'cityCode', 'cityPartRange', 'numPrevOwners', 'made', 'isNewBuilt',\n",
       "       'hasStormProtector', 'basement', 'attic', 'garage', 'hasStorageRoom',\n",
       "       'hasGuestRoom', 'price'],\n",
       "      dtype='object')"
      ]
     },
     "execution_count": 4,
     "metadata": {},
     "output_type": "execute_result"
    }
   ],
   "source": [
    "#convert string in int\n",
    "column_list = data_set.columns\n",
    "\n",
    "cvt = LabelEncoder()\n",
    "\n",
    "for i in column_list:\n",
    "    if data_set[i].dtype != 'int32':\n",
    "        data_set[i] = cvt.fit_transform(data_set[i])\n",
    "        \n",
    "#remove(\"category\")\n",
    "feature = column_list[:-1]\n",
    "feature\n"
   ]
  },
  {
   "cell_type": "code",
   "execution_count": 5,
   "metadata": {},
   "outputs": [
    {
     "name": "stdout",
     "output_type": "stream",
     "text": [
      "      squareMeters  numberOfRooms  hasYard  hasPool  floors  cityCode  \\\n",
      "0             7178              2        0        1      62       917   \n",
      "1             7680             38        1        1      97      3699   \n",
      "2             5287             57        0        1      18      3284   \n",
      "3             3038             46        0        0       5      2676   \n",
      "4             6707             18        1        1      89      3579   \n",
      "...            ...            ...      ...      ...     ...       ...   \n",
      "9995           182             88        0        1       4      6867   \n",
      "9996          4205             28        1        1      11      3306   \n",
      "9997          7976              2        0        0      68      7641   \n",
      "9998          5603             69        0        0      95      5249   \n",
      "9999           154             83        0        0      48      1769   \n",
      "\n",
      "      cityPartRange  numPrevOwners  made  isNewBuilt  hasStormProtector  \\\n",
      "0                 2              7    15           0                  1   \n",
      "1                 7              5    25           1                  0   \n",
      "2                 5              7    31           0                  0   \n",
      "3                 9              3    22           0                  1   \n",
      "4                 2              6     0           1                  0   \n",
      "...             ...            ...   ...         ...                ...   \n",
      "9995              6              5    19           0                  1   \n",
      "9996              8              3     0           0                  1   \n",
      "9997              9              9    15           1                  1   \n",
      "9998              0              2    20           0                  1   \n",
      "9999              5              9     4           1                  0   \n",
      "\n",
      "      basement  attic  garage  hasStorageRoom  hasGuestRoom  price  \n",
      "0         2731   5638     856               0             7   7580  \n",
      "1         2314   1509      28               1             2   8106  \n",
      "2         1860   5536      35               1             9   5584  \n",
      "3          442   4447     259               0             3   3196  \n",
      "4         5366   1505     192               1             4   7092  \n",
      "...        ...    ...     ...             ...           ...    ...  \n",
      "9995      5913   1073     118               0             4    195  \n",
      "9996      5762   1100     130               0             0   4439  \n",
      "9997      5282   4825     245               1             9   8417  \n",
      "9998      1648   3842     239               1             4   5914  \n",
      "9999      5395   1273     178               1             6    161  \n",
      "\n",
      "[10000 rows x 17 columns]\n"
     ]
    }
   ],
   "source": [
    "print(data_set.iloc[:,:-1])"
   ]
  },
  {
   "cell_type": "code",
   "execution_count": null,
   "metadata": {},
   "outputs": [],
   "source": []
  },
  {
   "cell_type": "code",
   "execution_count": 6,
   "metadata": {},
   "outputs": [
    {
     "data": {
      "text/plain": [
       "[0, 1, 2, 3, 4, 5, 6, 7, 8, 9, 10, 11, 12, 13, 14, 15, 16]"
      ]
     },
     "execution_count": 6,
     "metadata": {},
     "output_type": "execute_result"
    }
   ],
   "source": [
    "feature_col = list(range(0,data_set.shape[1]-1))\n",
    "feature_col"
   ]
  },
  {
   "cell_type": "code",
   "execution_count": 7,
   "metadata": {},
   "outputs": [
    {
     "name": "stdout",
     "output_type": "stream",
     "text": [
      "The features are : \n",
      "\n"
     ]
    },
    {
     "data": {
      "text/html": [
       "<div>\n",
       "<style scoped>\n",
       "    .dataframe tbody tr th:only-of-type {\n",
       "        vertical-align: middle;\n",
       "    }\n",
       "\n",
       "    .dataframe tbody tr th {\n",
       "        vertical-align: top;\n",
       "    }\n",
       "\n",
       "    .dataframe thead th {\n",
       "        text-align: right;\n",
       "    }\n",
       "</style>\n",
       "<table border=\"1\" class=\"dataframe\">\n",
       "  <thead>\n",
       "    <tr style=\"text-align: right;\">\n",
       "      <th></th>\n",
       "      <th>squareMeters</th>\n",
       "      <th>numberOfRooms</th>\n",
       "      <th>hasYard</th>\n",
       "      <th>hasPool</th>\n",
       "      <th>floors</th>\n",
       "      <th>cityCode</th>\n",
       "      <th>cityPartRange</th>\n",
       "      <th>numPrevOwners</th>\n",
       "      <th>made</th>\n",
       "      <th>isNewBuilt</th>\n",
       "      <th>hasStormProtector</th>\n",
       "      <th>basement</th>\n",
       "      <th>attic</th>\n",
       "      <th>garage</th>\n",
       "      <th>hasStorageRoom</th>\n",
       "      <th>hasGuestRoom</th>\n",
       "      <th>price</th>\n",
       "    </tr>\n",
       "  </thead>\n",
       "  <tbody>\n",
       "    <tr>\n",
       "      <th>0</th>\n",
       "      <td>7178</td>\n",
       "      <td>2</td>\n",
       "      <td>0</td>\n",
       "      <td>1</td>\n",
       "      <td>62</td>\n",
       "      <td>917</td>\n",
       "      <td>2</td>\n",
       "      <td>7</td>\n",
       "      <td>15</td>\n",
       "      <td>0</td>\n",
       "      <td>1</td>\n",
       "      <td>2731</td>\n",
       "      <td>5638</td>\n",
       "      <td>856</td>\n",
       "      <td>0</td>\n",
       "      <td>7</td>\n",
       "      <td>7580</td>\n",
       "    </tr>\n",
       "    <tr>\n",
       "      <th>1</th>\n",
       "      <td>7680</td>\n",
       "      <td>38</td>\n",
       "      <td>1</td>\n",
       "      <td>1</td>\n",
       "      <td>97</td>\n",
       "      <td>3699</td>\n",
       "      <td>7</td>\n",
       "      <td>5</td>\n",
       "      <td>25</td>\n",
       "      <td>1</td>\n",
       "      <td>0</td>\n",
       "      <td>2314</td>\n",
       "      <td>1509</td>\n",
       "      <td>28</td>\n",
       "      <td>1</td>\n",
       "      <td>2</td>\n",
       "      <td>8106</td>\n",
       "    </tr>\n",
       "    <tr>\n",
       "      <th>2</th>\n",
       "      <td>5287</td>\n",
       "      <td>57</td>\n",
       "      <td>0</td>\n",
       "      <td>1</td>\n",
       "      <td>18</td>\n",
       "      <td>3284</td>\n",
       "      <td>5</td>\n",
       "      <td>7</td>\n",
       "      <td>31</td>\n",
       "      <td>0</td>\n",
       "      <td>0</td>\n",
       "      <td>1860</td>\n",
       "      <td>5536</td>\n",
       "      <td>35</td>\n",
       "      <td>1</td>\n",
       "      <td>9</td>\n",
       "      <td>5584</td>\n",
       "    </tr>\n",
       "    <tr>\n",
       "      <th>3</th>\n",
       "      <td>3038</td>\n",
       "      <td>46</td>\n",
       "      <td>0</td>\n",
       "      <td>0</td>\n",
       "      <td>5</td>\n",
       "      <td>2676</td>\n",
       "      <td>9</td>\n",
       "      <td>3</td>\n",
       "      <td>22</td>\n",
       "      <td>0</td>\n",
       "      <td>1</td>\n",
       "      <td>442</td>\n",
       "      <td>4447</td>\n",
       "      <td>259</td>\n",
       "      <td>0</td>\n",
       "      <td>3</td>\n",
       "      <td>3196</td>\n",
       "    </tr>\n",
       "    <tr>\n",
       "      <th>4</th>\n",
       "      <td>6707</td>\n",
       "      <td>18</td>\n",
       "      <td>1</td>\n",
       "      <td>1</td>\n",
       "      <td>89</td>\n",
       "      <td>3579</td>\n",
       "      <td>2</td>\n",
       "      <td>6</td>\n",
       "      <td>0</td>\n",
       "      <td>1</td>\n",
       "      <td>0</td>\n",
       "      <td>5366</td>\n",
       "      <td>1505</td>\n",
       "      <td>192</td>\n",
       "      <td>1</td>\n",
       "      <td>4</td>\n",
       "      <td>7092</td>\n",
       "    </tr>\n",
       "    <tr>\n",
       "      <th>...</th>\n",
       "      <td>...</td>\n",
       "      <td>...</td>\n",
       "      <td>...</td>\n",
       "      <td>...</td>\n",
       "      <td>...</td>\n",
       "      <td>...</td>\n",
       "      <td>...</td>\n",
       "      <td>...</td>\n",
       "      <td>...</td>\n",
       "      <td>...</td>\n",
       "      <td>...</td>\n",
       "      <td>...</td>\n",
       "      <td>...</td>\n",
       "      <td>...</td>\n",
       "      <td>...</td>\n",
       "      <td>...</td>\n",
       "      <td>...</td>\n",
       "    </tr>\n",
       "    <tr>\n",
       "      <th>9995</th>\n",
       "      <td>182</td>\n",
       "      <td>88</td>\n",
       "      <td>0</td>\n",
       "      <td>1</td>\n",
       "      <td>4</td>\n",
       "      <td>6867</td>\n",
       "      <td>6</td>\n",
       "      <td>5</td>\n",
       "      <td>19</td>\n",
       "      <td>0</td>\n",
       "      <td>1</td>\n",
       "      <td>5913</td>\n",
       "      <td>1073</td>\n",
       "      <td>118</td>\n",
       "      <td>0</td>\n",
       "      <td>4</td>\n",
       "      <td>195</td>\n",
       "    </tr>\n",
       "    <tr>\n",
       "      <th>9996</th>\n",
       "      <td>4205</td>\n",
       "      <td>28</td>\n",
       "      <td>1</td>\n",
       "      <td>1</td>\n",
       "      <td>11</td>\n",
       "      <td>3306</td>\n",
       "      <td>8</td>\n",
       "      <td>3</td>\n",
       "      <td>0</td>\n",
       "      <td>0</td>\n",
       "      <td>1</td>\n",
       "      <td>5762</td>\n",
       "      <td>1100</td>\n",
       "      <td>130</td>\n",
       "      <td>0</td>\n",
       "      <td>0</td>\n",
       "      <td>4439</td>\n",
       "    </tr>\n",
       "    <tr>\n",
       "      <th>9997</th>\n",
       "      <td>7976</td>\n",
       "      <td>2</td>\n",
       "      <td>0</td>\n",
       "      <td>0</td>\n",
       "      <td>68</td>\n",
       "      <td>7641</td>\n",
       "      <td>9</td>\n",
       "      <td>9</td>\n",
       "      <td>15</td>\n",
       "      <td>1</td>\n",
       "      <td>1</td>\n",
       "      <td>5282</td>\n",
       "      <td>4825</td>\n",
       "      <td>245</td>\n",
       "      <td>1</td>\n",
       "      <td>9</td>\n",
       "      <td>8417</td>\n",
       "    </tr>\n",
       "    <tr>\n",
       "      <th>9998</th>\n",
       "      <td>5603</td>\n",
       "      <td>69</td>\n",
       "      <td>0</td>\n",
       "      <td>0</td>\n",
       "      <td>95</td>\n",
       "      <td>5249</td>\n",
       "      <td>0</td>\n",
       "      <td>2</td>\n",
       "      <td>20</td>\n",
       "      <td>0</td>\n",
       "      <td>1</td>\n",
       "      <td>1648</td>\n",
       "      <td>3842</td>\n",
       "      <td>239</td>\n",
       "      <td>1</td>\n",
       "      <td>4</td>\n",
       "      <td>5914</td>\n",
       "    </tr>\n",
       "    <tr>\n",
       "      <th>9999</th>\n",
       "      <td>154</td>\n",
       "      <td>83</td>\n",
       "      <td>0</td>\n",
       "      <td>0</td>\n",
       "      <td>48</td>\n",
       "      <td>1769</td>\n",
       "      <td>5</td>\n",
       "      <td>9</td>\n",
       "      <td>4</td>\n",
       "      <td>1</td>\n",
       "      <td>0</td>\n",
       "      <td>5395</td>\n",
       "      <td>1273</td>\n",
       "      <td>178</td>\n",
       "      <td>1</td>\n",
       "      <td>6</td>\n",
       "      <td>161</td>\n",
       "    </tr>\n",
       "  </tbody>\n",
       "</table>\n",
       "<p>10000 rows × 17 columns</p>\n",
       "</div>"
      ],
      "text/plain": [
       "      squareMeters  numberOfRooms  hasYard  hasPool  floors  cityCode  \\\n",
       "0             7178              2        0        1      62       917   \n",
       "1             7680             38        1        1      97      3699   \n",
       "2             5287             57        0        1      18      3284   \n",
       "3             3038             46        0        0       5      2676   \n",
       "4             6707             18        1        1      89      3579   \n",
       "...            ...            ...      ...      ...     ...       ...   \n",
       "9995           182             88        0        1       4      6867   \n",
       "9996          4205             28        1        1      11      3306   \n",
       "9997          7976              2        0        0      68      7641   \n",
       "9998          5603             69        0        0      95      5249   \n",
       "9999           154             83        0        0      48      1769   \n",
       "\n",
       "      cityPartRange  numPrevOwners  made  isNewBuilt  hasStormProtector  \\\n",
       "0                 2              7    15           0                  1   \n",
       "1                 7              5    25           1                  0   \n",
       "2                 5              7    31           0                  0   \n",
       "3                 9              3    22           0                  1   \n",
       "4                 2              6     0           1                  0   \n",
       "...             ...            ...   ...         ...                ...   \n",
       "9995              6              5    19           0                  1   \n",
       "9996              8              3     0           0                  1   \n",
       "9997              9              9    15           1                  1   \n",
       "9998              0              2    20           0                  1   \n",
       "9999              5              9     4           1                  0   \n",
       "\n",
       "      basement  attic  garage  hasStorageRoom  hasGuestRoom  price  \n",
       "0         2731   5638     856               0             7   7580  \n",
       "1         2314   1509      28               1             2   8106  \n",
       "2         1860   5536      35               1             9   5584  \n",
       "3          442   4447     259               0             3   3196  \n",
       "4         5366   1505     192               1             4   7092  \n",
       "...        ...    ...     ...             ...           ...    ...  \n",
       "9995      5913   1073     118               0             4    195  \n",
       "9996      5762   1100     130               0             0   4439  \n",
       "9997      5282   4825     245               1             9   8417  \n",
       "9998      1648   3842     239               1             4   5914  \n",
       "9999      5395   1273     178               1             6    161  \n",
       "\n",
       "[10000 rows x 17 columns]"
      ]
     },
     "execution_count": 7,
     "metadata": {},
     "output_type": "execute_result"
    }
   ],
   "source": [
    "#self implementation\n",
    "def display_data(data, fea_col):\n",
    "    return data_set.iloc[:,fea_col]\n",
    "features = display_data(data_set, feature_col)\n",
    "\n",
    "print(\"The features are : \\n\")\n",
    "features\n",
    "    \n",
    "    "
   ]
  },
  {
   "cell_type": "code",
   "execution_count": 8,
   "metadata": {},
   "outputs": [
    {
     "data": {
      "text/plain": [
       "(10000, 17)"
      ]
     },
     "execution_count": 8,
     "metadata": {},
     "output_type": "execute_result"
    }
   ],
   "source": [
    "#feature size\n",
    "features.shape"
   ]
  },
  {
   "cell_type": "code",
   "execution_count": null,
   "metadata": {},
   "outputs": [],
   "source": []
  },
  {
   "cell_type": "code",
   "execution_count": 9,
   "metadata": {},
   "outputs": [
    {
     "name": "stdout",
     "output_type": "stream",
     "text": [
      "The label column is : \n",
      "\n"
     ]
    },
    {
     "data": {
      "text/plain": [
       "0       0\n",
       "1       1\n",
       "2       0\n",
       "3       1\n",
       "4       1\n",
       "       ..\n",
       "9995    0\n",
       "9996    0\n",
       "9997    0\n",
       "9998    0\n",
       "9999    0\n",
       "Name: category, Length: 10000, dtype: int32"
      ]
     },
     "execution_count": 9,
     "metadata": {},
     "output_type": "execute_result"
    }
   ],
   "source": [
    "\n",
    "label_index = data_set.shape[1]-1\n",
    "label = display_data(data_set,label_index )\n",
    "\n",
    "print(\"The label column is : \\n\")\n",
    "label"
   ]
  },
  {
   "cell_type": "code",
   "execution_count": 10,
   "metadata": {},
   "outputs": [
    {
     "name": "stdout",
     "output_type": "stream",
     "text": [
      "(8000, 17) (2000, 17) (8000,) (2000,)\n"
     ]
    }
   ],
   "source": [
    "\n",
    "  \n",
    "#Extracting Independent and dependent Variable  \n",
    "x= data_set.iloc[:,feature_col].values  \n",
    "\n",
    "y= data_set.iloc[:, label_index].values  \n",
    "  \n",
    "# Splitting the dataset into training and test set.  \n",
    "from sklearn.model_selection import train_test_split  \n",
    "x_train, x_test, y_train, y_test= train_test_split(x, y, test_size= 0.2, random_state=0)  \n",
    "\n",
    "print(x_train.shape,x_test.shape, y_train.shape,y_test.shape) \n",
    "\n",
    "#feature Scaling  \n",
    "from sklearn.preprocessing import StandardScaler    \n",
    "st_x= StandardScaler()  \n",
    "x_train= st_x.fit_transform(x_train)    \n",
    "x_test= st_x.transform(x_test) \n",
    "\n"
   ]
  },
  {
   "cell_type": "code",
   "execution_count": 11,
   "metadata": {},
   "outputs": [
    {
     "data": {
      "text/plain": [
       "array([[-0.98192119, -0.22088849,  0.98955455, ...,  0.98683663,\n",
       "         1.26788717, -0.98197588],\n",
       "       [-0.97718748,  0.78872832,  0.98955455, ..., -1.01333896,\n",
       "        -0.61896668, -0.97714277],\n",
       "       [ 1.50109024, -0.9868047 ,  0.98955455, ...,  0.98683663,\n",
       "         0.95341153,  1.49982543],\n",
       "       ...,\n",
       "       [ 1.37546494,  0.51021334, -1.01055571, ..., -1.01333896,\n",
       "        -0.30449104,  1.37278372],\n",
       "       [ 1.5750089 ,  1.27612954, -1.01055571, ...,  0.98683663,\n",
       "         0.0099846 ,  1.57197684],\n",
       "       [-1.10608997,  0.16206961, -1.01055571, ..., -1.01333896,\n",
       "         0.63893588, -1.10729148]])"
      ]
     },
     "execution_count": 11,
     "metadata": {},
     "output_type": "execute_result"
    }
   ],
   "source": [
    "x_train"
   ]
  },
  {
   "cell_type": "code",
   "execution_count": 12,
   "metadata": {},
   "outputs": [
    {
     "data": {
      "text/plain": [
       "array([[-1.23244353, -1.54383466, -1.01055571, ..., -1.01333896,\n",
       "        -1.24791796, -1.23295231],\n",
       "       [-1.53649318, -0.081631  , -1.01055571, ..., -1.01333896,\n",
       "         0.0099846 , -1.53743815],\n",
       "       [ 0.45129966, -0.39496036, -1.01055571, ...,  0.98683663,\n",
       "         0.95341153,  0.45242174],\n",
       "       ...,\n",
       "       [ 0.42071263,  0.54502771,  0.98955455, ...,  0.98683663,\n",
       "        -0.93344232,  0.42238742],\n",
       "       [ 1.35252466,  1.45020141, -1.01055571, ...,  0.98683663,\n",
       "        -1.5623936 ,  1.35241562],\n",
       "       [ 1.57537303, -0.01200226,  0.98955455, ..., -1.01333896,\n",
       "         0.32446024,  1.57266729]])"
      ]
     },
     "execution_count": 12,
     "metadata": {},
     "output_type": "execute_result"
    }
   ],
   "source": [
    "x_test"
   ]
  },
  {
   "cell_type": "code",
   "execution_count": null,
   "metadata": {},
   "outputs": [],
   "source": []
  },
  {
   "cell_type": "code",
   "execution_count": 13,
   "metadata": {},
   "outputs": [],
   "source": [
    "#this part I tested how each function works"
   ]
  },
  {
   "cell_type": "code",
   "execution_count": 14,
   "metadata": {},
   "outputs": [
    {
     "data": {
      "text/plain": [
       "DecisionTreeClassifier(criterion='entropy', max_depth=3, min_samples_leaf=5,\n",
       "                       random_state=100)"
      ]
     },
     "execution_count": 14,
     "metadata": {},
     "output_type": "execute_result"
    }
   ],
   "source": [
    "#Fitting Decision Tree classifier to the training set  \n",
    "from sklearn.tree import DecisionTreeClassifier \n",
    "#classifier= DecisionTreeClassifier(criterion='entropy', random_state=0)\n",
    "classifier =DecisionTreeClassifier(criterion = \"entropy\", random_state = 100,max_depth = 3, min_samples_leaf = 5)\n",
    "classifier.fit(x_train, y_train)  "
   ]
  },
  {
   "cell_type": "code",
   "execution_count": 15,
   "metadata": {},
   "outputs": [
    {
     "data": {
      "text/plain": [
       "array([0, 0, 0, ..., 0, 0, 1])"
      ]
     },
     "execution_count": 15,
     "metadata": {},
     "output_type": "execute_result"
    }
   ],
   "source": [
    "#Predicting the test set result  \n",
    "y_pred= classifier.predict(x_test)  \n",
    "y_pred\n"
   ]
  },
  {
   "cell_type": "code",
   "execution_count": 16,
   "metadata": {},
   "outputs": [
    {
     "data": {
      "text/plain": [
       "array([0, 0, 0, ..., 0, 0, 1])"
      ]
     },
     "execution_count": 16,
     "metadata": {},
     "output_type": "execute_result"
    }
   ],
   "source": [
    "y_test\n"
   ]
  },
  {
   "cell_type": "markdown",
   "metadata": {},
   "source": [
    "# Below is the part I train my data in different models and put together model, predict, validate data, and compare with other models."
   ]
  },
  {
   "cell_type": "code",
   "execution_count": 17,
   "metadata": {},
   "outputs": [
    {
     "name": "stdout",
     "output_type": "stream",
     "text": [
      "Matric  [[1463    0]\n",
      " [   4  533]]\n"
     ]
    }
   ],
   "source": [
    "#Creating the Confusion matrix  \n",
    "from sklearn.metrics import confusion_matrix  \n",
    "cm= confusion_matrix(y_test, y_pred)  \n",
    "print(\"Matric \",cm)"
   ]
  },
  {
   "cell_type": "code",
   "execution_count": 18,
   "metadata": {},
   "outputs": [
    {
     "name": "stdout",
     "output_type": "stream",
     "text": [
      "Incorrect prediction number is  4\n",
      "Correct prediction number is  1996\n"
     ]
    }
   ],
   "source": [
    "\n",
    "def matric_translate(confuse_matrix):\n",
    "    incorrect_pred = cm[0,1]+cm[1,0]\n",
    "    correct_pred = cm[0,0]+cm[1,1]\n",
    "    print(\"Incorrect prediction number is \",incorrect_pred)\n",
    "    print(\"Correct prediction number is \", correct_pred)\n",
    "    \n",
    "matric_translate(cm)"
   ]
  },
  {
   "cell_type": "code",
   "execution_count": 19,
   "metadata": {},
   "outputs": [
    {
     "name": "stdout",
     "output_type": "stream",
     "text": [
      "Accuracy :  99.8\n"
     ]
    }
   ],
   "source": [
    "print (\"Accuracy : \",accuracy_score(y_test,y_pred)*100)"
   ]
  },
  {
   "cell_type": "code",
   "execution_count": 20,
   "metadata": {},
   "outputs": [
    {
     "name": "stdout",
     "output_type": "stream",
     "text": [
      "Report :                precision    recall  f1-score   support\n",
      "\n",
      "           0       1.00      1.00      1.00      1463\n",
      "           1       1.00      0.99      1.00       537\n",
      "\n",
      "    accuracy                           1.00      2000\n",
      "   macro avg       1.00      1.00      1.00      2000\n",
      "weighted avg       1.00      1.00      1.00      2000\n",
      "\n"
     ]
    }
   ],
   "source": [
    "print(\"Report : \",classification_report(y_test, y_pred))"
   ]
  },
  {
   "cell_type": "code",
   "execution_count": 21,
   "metadata": {},
   "outputs": [],
   "source": [
    "#self implemeantion these training functions\n",
    "def train_with_entropy_generic():\n",
    "    classifier= DecisionTreeClassifier(criterion='entropy', random_state=100)\n",
    "    classifier.fit(x_train, y_train) \n",
    "    return classifier\n",
    "    "
   ]
  },
  {
   "cell_type": "code",
   "execution_count": 22,
   "metadata": {},
   "outputs": [],
   "source": [
    "\n",
    "def train_with_entropy_specific(m, min_l):\n",
    "    classifier =DecisionTreeClassifier(criterion = \"entropy\", random_state = 100,max_depth=m, min_samples_leaf =min_l)\n",
    "    classifier.fit(x_train, y_train) \n",
    "    return classifier"
   ]
  },
  {
   "cell_type": "code",
   "execution_count": 23,
   "metadata": {},
   "outputs": [],
   "source": [
    "def train_with_gini_generic():\n",
    "    classifier= DecisionTreeClassifier(criterion='gini', random_state=100)\n",
    "    classifier.fit(x_train, y_train) \n",
    "    return classifier"
   ]
  },
  {
   "cell_type": "code",
   "execution_count": 24,
   "metadata": {},
   "outputs": [],
   "source": [
    "def train_with_gini_specific(m, min_l):\n",
    "    classifier =DecisionTreeClassifier(criterion = \"gini\", random_state = 100,max_depth=m , min_samples_leaf=min_l)\n",
    "    classifier.fit(x_train, y_train) \n",
    "    return classifier"
   ]
  },
  {
   "cell_type": "code",
   "execution_count": null,
   "metadata": {},
   "outputs": [],
   "source": []
  },
  {
   "cell_type": "code",
   "execution_count": 25,
   "metadata": {},
   "outputs": [],
   "source": [
    "#self implementation\n",
    "def matric_translate(confuse_matrix):\n",
    "    incorrect_pred = cm[0,1]+cm[1,0]\n",
    "    correct_pred = cm[0,0]+cm[1,1]\n",
    "    print(\"Incorrect prediction number is \",incorrect_pred)\n",
    "    print(\"Correct prediction number is \", correct_pred)\n",
    "    "
   ]
  },
  {
   "cell_type": "code",
   "execution_count": null,
   "metadata": {},
   "outputs": [],
   "source": []
  },
  {
   "cell_type": "code",
   "execution_count": 26,
   "metadata": {},
   "outputs": [],
   "source": [
    "#self putting together\n",
    "def run(model):\n",
    "\n",
    "    \n",
    "    #train generic entropy\n",
    "    y_pred = model.predict(x_test)\n",
    "\n",
    "    #Creating the Confusion matrix  \n",
    "\n",
    "    cm= confusion_matrix(y_test, y_pred)  \n",
    "    print(\"Confusion matrix \")\n",
    "    print(cm)\n",
    "\n",
    "    matric_translate(cm)\n",
    "    print (\"Accuracy : \",accuracy_score(y_test,y_pred)*100)\n",
    "    print(\"Report : \",classification_report(y_test, y_pred))\n",
    "\n"
   ]
  },
  {
   "cell_type": "code",
   "execution_count": 27,
   "metadata": {},
   "outputs": [
    {
     "name": "stdout",
     "output_type": "stream",
     "text": [
      "\n",
      "Model 1 : generic entropy training \n",
      "********************************\n",
      "Confusion matrix \n",
      "[[1459    4]\n",
      " [   4  533]]\n",
      "Incorrect prediction number is  4\n",
      "Correct prediction number is  1996\n",
      "Accuracy :  99.6\n",
      "Report :                precision    recall  f1-score   support\n",
      "\n",
      "           0       1.00      1.00      1.00      1463\n",
      "           1       0.99      0.99      0.99       537\n",
      "\n",
      "    accuracy                           1.00      2000\n",
      "   macro avg       0.99      0.99      0.99      2000\n",
      "weighted avg       1.00      1.00      1.00      2000\n",
      "\n"
     ]
    }
   ],
   "source": [
    "print(\"\\nModel 1 : generic entropy training \\n********************************\")\n",
    "generic_entrop =train_with_entropy_generic()\n",
    "run(generic_entrop)"
   ]
  },
  {
   "cell_type": "code",
   "execution_count": 28,
   "metadata": {},
   "outputs": [
    {
     "name": "stdout",
     "output_type": "stream",
     "text": [
      "\n",
      "Model 2 : specific entropy training with max depth is 5 and 3 as min of leaves.\n",
      "********************************\n",
      "Confusion matrix \n",
      "[[1463    0]\n",
      " [   4  533]]\n",
      "Incorrect prediction number is  4\n",
      "Correct prediction number is  1996\n",
      "Accuracy :  99.8\n",
      "Report :                precision    recall  f1-score   support\n",
      "\n",
      "           0       1.00      1.00      1.00      1463\n",
      "           1       1.00      0.99      1.00       537\n",
      "\n",
      "    accuracy                           1.00      2000\n",
      "   macro avg       1.00      1.00      1.00      2000\n",
      "weighted avg       1.00      1.00      1.00      2000\n",
      "\n"
     ]
    }
   ],
   "source": [
    "print(\"\\nModel 2 : specific entropy training with max depth is 5 and 3 as min of leaves.\\n********************************\")\n",
    "\n",
    "specific_entrop = train_with_entropy_specific(5, 3)\n",
    "\n",
    "run(specific_entrop)"
   ]
  },
  {
   "cell_type": "code",
   "execution_count": 29,
   "metadata": {},
   "outputs": [
    {
     "name": "stdout",
     "output_type": "stream",
     "text": [
      "\n",
      "Model 3 : specific entropy training with max depth is 7 and 3 as min of leaves.\n",
      "********************************\n",
      "Confusion matrix \n",
      "[[1463    0]\n",
      " [   4  533]]\n",
      "Incorrect prediction number is  4\n",
      "Correct prediction number is  1996\n",
      "Accuracy :  99.8\n",
      "Report :                precision    recall  f1-score   support\n",
      "\n",
      "           0       1.00      1.00      1.00      1463\n",
      "           1       1.00      0.99      1.00       537\n",
      "\n",
      "    accuracy                           1.00      2000\n",
      "   macro avg       1.00      1.00      1.00      2000\n",
      "weighted avg       1.00      1.00      1.00      2000\n",
      "\n"
     ]
    }
   ],
   "source": [
    "print(\"\\nModel 3 : specific entropy training with max depth is 7 and 3 as min of leaves.\\n********************************\")\n",
    "\n",
    "\n",
    "\n",
    "specific_entrop2 = train_with_entropy_specific(7, 3)\n",
    "run(specific_entrop2)"
   ]
  },
  {
   "cell_type": "code",
   "execution_count": 30,
   "metadata": {},
   "outputs": [
    {
     "name": "stdout",
     "output_type": "stream",
     "text": [
      "\n",
      "Model 4  : specific entropy training with max depth is 2 and 2 as min of leaves.\n",
      "********************************\n",
      "Confusion matrix \n",
      "[[1463    0]\n",
      " [   4  533]]\n",
      "Incorrect prediction number is  4\n",
      "Correct prediction number is  1996\n",
      "Accuracy :  99.8\n",
      "Report :                precision    recall  f1-score   support\n",
      "\n",
      "           0       1.00      1.00      1.00      1463\n",
      "           1       1.00      0.99      1.00       537\n",
      "\n",
      "    accuracy                           1.00      2000\n",
      "   macro avg       1.00      1.00      1.00      2000\n",
      "weighted avg       1.00      1.00      1.00      2000\n",
      "\n"
     ]
    }
   ],
   "source": [
    "print(\"\\nModel 4  : specific entropy training with max depth is 2 and 2 as min of leaves.\\n********************************\")\n",
    "\n",
    "\n",
    "\n",
    "specific_entrop2 = train_with_entropy_specific(2, 2)\n",
    "run(specific_entrop2)"
   ]
  },
  {
   "cell_type": "code",
   "execution_count": 31,
   "metadata": {},
   "outputs": [
    {
     "name": "stdout",
     "output_type": "stream",
     "text": [
      "\n",
      "Model 5 : generic gini training\n",
      "********************************\n",
      "Confusion matrix \n",
      "[[1463    0]\n",
      " [   4  533]]\n",
      "Incorrect prediction number is  4\n",
      "Correct prediction number is  1996\n",
      "Accuracy :  99.8\n",
      "Report :                precision    recall  f1-score   support\n",
      "\n",
      "           0       1.00      1.00      1.00      1463\n",
      "           1       1.00      0.99      1.00       537\n",
      "\n",
      "    accuracy                           1.00      2000\n",
      "   macro avg       1.00      1.00      1.00      2000\n",
      "weighted avg       1.00      1.00      1.00      2000\n",
      "\n"
     ]
    }
   ],
   "source": [
    "print(\"\\nModel 5 : generic gini training\\n********************************\")\n",
    "\n",
    "generic_gini = train_with_gini_generic()\n",
    "\n",
    "run(generic_gini)"
   ]
  },
  {
   "cell_type": "code",
   "execution_count": 32,
   "metadata": {},
   "outputs": [
    {
     "name": "stdout",
     "output_type": "stream",
     "text": [
      "\n",
      "Model 6 : specific gini training with 5 max depth and 3 min leaves\n",
      "********************************\n",
      "Confusion matrix \n",
      "[[1463    0]\n",
      " [   4  533]]\n",
      "Incorrect prediction number is  4\n",
      "Correct prediction number is  1996\n",
      "Accuracy :  99.8\n",
      "Report :                precision    recall  f1-score   support\n",
      "\n",
      "           0       1.00      1.00      1.00      1463\n",
      "           1       1.00      0.99      1.00       537\n",
      "\n",
      "    accuracy                           1.00      2000\n",
      "   macro avg       1.00      1.00      1.00      2000\n",
      "weighted avg       1.00      1.00      1.00      2000\n",
      "\n"
     ]
    }
   ],
   "source": [
    "print(\"\\nModel 6 : specific gini training with 5 max depth and 3 min leaves\\n********************************\")\n",
    "\n",
    "specific_gini = train_with_gini_specific(5,3)\n",
    "\n",
    "\n",
    "run(specific_gini)"
   ]
  },
  {
   "cell_type": "code",
   "execution_count": 33,
   "metadata": {},
   "outputs": [
    {
     "name": "stdout",
     "output_type": "stream",
     "text": [
      "\n",
      "Model 7 : specific gini training with 7 max depth and 3 min leaves\n",
      "********************************\n",
      "Confusion matrix \n",
      "[[1463    0]\n",
      " [   4  533]]\n",
      "Incorrect prediction number is  4\n",
      "Correct prediction number is  1996\n",
      "Accuracy :  99.8\n",
      "Report :                precision    recall  f1-score   support\n",
      "\n",
      "           0       1.00      1.00      1.00      1463\n",
      "           1       1.00      0.99      1.00       537\n",
      "\n",
      "    accuracy                           1.00      2000\n",
      "   macro avg       1.00      1.00      1.00      2000\n",
      "weighted avg       1.00      1.00      1.00      2000\n",
      "\n"
     ]
    }
   ],
   "source": [
    "print(\"\\nModel 7 : specific gini training with 7 max depth and 3 min leaves\\n********************************\")\n",
    "\n",
    "specific_gini2 = train_with_gini_specific(7,3)\n",
    "\n",
    "\n",
    "run(specific_gini2)"
   ]
  },
  {
   "cell_type": "code",
   "execution_count": 34,
   "metadata": {},
   "outputs": [
    {
     "name": "stdout",
     "output_type": "stream",
     "text": [
      "\n",
      "Model 8 : specific gini training with None max depth and 2 min leaves\n",
      "********************************\n",
      "Confusion matrix \n",
      "[[1459    4]\n",
      " [   4  533]]\n",
      "Incorrect prediction number is  4\n",
      "Correct prediction number is  1996\n",
      "Accuracy :  99.6\n",
      "Report :                precision    recall  f1-score   support\n",
      "\n",
      "           0       1.00      1.00      1.00      1463\n",
      "           1       0.99      0.99      0.99       537\n",
      "\n",
      "    accuracy                           1.00      2000\n",
      "   macro avg       0.99      0.99      0.99      2000\n",
      "weighted avg       1.00      1.00      1.00      2000\n",
      "\n"
     ]
    }
   ],
   "source": [
    "print(\"\\nModel 8 : specific gini training with None max depth and 2 min leaves\\n********************************\")\n",
    "\n",
    "specific_gini3 = train_with_entropy_specific(None,2)\n",
    "\n",
    "\n",
    "run(specific_gini3)"
   ]
  },
  {
   "cell_type": "markdown",
   "metadata": {},
   "source": [
    "My observations :\n",
    "Between my so called \"generic\" and \"specific\" training models, the specific performs better by 0.02%.\n",
    "In general : generic has 99.6 accuracy while the specific got 99.8 percentage of accuracy.\n",
    "In Specific : (5,3),(7,3) has 99.8 accuracy for both models.\n",
    "In (None,2) has 99.6 accuracy on model 2 and (2,2) has 99.8 on model1."
   ]
  },
  {
   "cell_type": "markdown",
   "metadata": {},
   "source": [
    "My issue is to look for data that is mostly I found out this decision tree is perfect suit for classification \n",
    "more than regression problem.\n",
    "\n",
    "I splited this data to train, test in 80:20.\n",
    "I played around with these completed implementation online. \n",
    "However, later on, I decided to adjust to test with different training models. \n",
    "The hardest part is to find perfect data that has met requirement. Second of that is how to decide that features \n",
    "can be determined the prediction. \n",
    "\n",
    "\n"
   ]
  },
  {
   "cell_type": "markdown",
   "metadata": {},
   "source": [
    "Sources :\n",
    "Part of codes :\n",
    "https://www.javatpoint.com/machine-learning-decision-tree-classification-algorithm\n",
    "\n",
    "https://scikit-learn.org/stable/modules/generated/sklearn.metrics.accuracy_score.html\n",
    "\n",
    "The data file I have attached as Paring Housing file\n",
    "\n",
    "Data Source :\n",
    "https://www.kaggle.com/mssmartypants/paris-housing-classification?select=ParisHousingClass99.88.csv"
   ]
  },
  {
   "cell_type": "code",
   "execution_count": null,
   "metadata": {},
   "outputs": [],
   "source": []
  }
 ],
 "metadata": {
  "kernelspec": {
   "display_name": "Python 3",
   "language": "python",
   "name": "python3"
  },
  "language_info": {
   "codemirror_mode": {
    "name": "ipython",
    "version": 3
   },
   "file_extension": ".py",
   "mimetype": "text/x-python",
   "name": "python",
   "nbconvert_exporter": "python",
   "pygments_lexer": "ipython3",
   "version": "3.8.5"
  }
 },
 "nbformat": 4,
 "nbformat_minor": 4
}
